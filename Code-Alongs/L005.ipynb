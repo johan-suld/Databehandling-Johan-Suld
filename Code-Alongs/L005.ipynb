{
 "cells": [
  {
   "cell_type": "markdown",
   "metadata": {},
   "source": [
    "### Query"
   ]
  },
  {
   "cell_type": "code",
   "execution_count": 2,
   "metadata": {},
   "outputs": [],
   "source": [
    "import numpy as np\n",
    "import pandas as pd"
   ]
  },
  {
   "cell_type": "code",
   "execution_count": 3,
   "metadata": {},
   "outputs": [
    {
     "data": {
      "text/html": [
       "<div>\n",
       "<style scoped>\n",
       "    .dataframe tbody tr th:only-of-type {\n",
       "        vertical-align: middle;\n",
       "    }\n",
       "\n",
       "    .dataframe tbody tr th {\n",
       "        vertical-align: top;\n",
       "    }\n",
       "\n",
       "    .dataframe thead th {\n",
       "        text-align: right;\n",
       "    }\n",
       "</style>\n",
       "<table border=\"1\" class=\"dataframe\">\n",
       "  <thead>\n",
       "    <tr style=\"text-align: right;\">\n",
       "      <th></th>\n",
       "      <th>A</th>\n",
       "      <th>B</th>\n",
       "      <th>C</th>\n",
       "      <th>D</th>\n",
       "    </tr>\n",
       "  </thead>\n",
       "  <tbody>\n",
       "    <tr>\n",
       "      <th>0</th>\n",
       "      <td>-0.710306</td>\n",
       "      <td>-1.214389</td>\n",
       "      <td>0.434236</td>\n",
       "      <td>0.555664</td>\n",
       "    </tr>\n",
       "    <tr>\n",
       "      <th>1</th>\n",
       "      <td>-0.893716</td>\n",
       "      <td>-1.115621</td>\n",
       "      <td>0.391051</td>\n",
       "      <td>1.130489</td>\n",
       "    </tr>\n",
       "    <tr>\n",
       "      <th>2</th>\n",
       "      <td>0.708975</td>\n",
       "      <td>-0.656254</td>\n",
       "      <td>0.479262</td>\n",
       "      <td>-1.050786</td>\n",
       "    </tr>\n",
       "    <tr>\n",
       "      <th>3</th>\n",
       "      <td>1.084670</td>\n",
       "      <td>0.240980</td>\n",
       "      <td>-1.301148</td>\n",
       "      <td>-0.508821</td>\n",
       "    </tr>\n",
       "    <tr>\n",
       "      <th>4</th>\n",
       "      <td>-0.165891</td>\n",
       "      <td>0.358769</td>\n",
       "      <td>1.080228</td>\n",
       "      <td>1.700576</td>\n",
       "    </tr>\n",
       "    <tr>\n",
       "      <th>5</th>\n",
       "      <td>0.128957</td>\n",
       "      <td>-0.363350</td>\n",
       "      <td>-0.588989</td>\n",
       "      <td>0.520767</td>\n",
       "    </tr>\n",
       "    <tr>\n",
       "      <th>6</th>\n",
       "      <td>-1.721640</td>\n",
       "      <td>-0.632786</td>\n",
       "      <td>0.969579</td>\n",
       "      <td>-0.627411</td>\n",
       "    </tr>\n",
       "  </tbody>\n",
       "</table>\n",
       "</div>"
      ],
      "text/plain": [
       "          A         B         C         D\n",
       "0 -0.710306 -1.214389  0.434236  0.555664\n",
       "1 -0.893716 -1.115621  0.391051  1.130489\n",
       "2  0.708975 -0.656254  0.479262 -1.050786\n",
       "3  1.084670  0.240980 -1.301148 -0.508821\n",
       "4 -0.165891  0.358769  1.080228  1.700576\n",
       "5  0.128957 -0.363350 -0.588989  0.520767\n",
       "6 -1.721640 -0.632786  0.969579 -0.627411"
      ]
     },
     "execution_count": 3,
     "metadata": {},
     "output_type": "execute_result"
    }
   ],
   "source": [
    "floats = pd.DataFrame(np.random.randn(7, 4), columns=['A', 'B', 'C', 'D'])\n",
    "floats"
   ]
  },
  {
   "cell_type": "code",
   "execution_count": 5,
   "metadata": {},
   "outputs": [
    {
     "data": {
      "text/html": [
       "<div>\n",
       "<style scoped>\n",
       "    .dataframe tbody tr th:only-of-type {\n",
       "        vertical-align: middle;\n",
       "    }\n",
       "\n",
       "    .dataframe tbody tr th {\n",
       "        vertical-align: top;\n",
       "    }\n",
       "\n",
       "    .dataframe thead th {\n",
       "        text-align: right;\n",
       "    }\n",
       "</style>\n",
       "<table border=\"1\" class=\"dataframe\">\n",
       "  <thead>\n",
       "    <tr style=\"text-align: right;\">\n",
       "      <th></th>\n",
       "      <th>A</th>\n",
       "      <th>B</th>\n",
       "      <th>C</th>\n",
       "      <th>D</th>\n",
       "    </tr>\n",
       "  </thead>\n",
       "  <tbody>\n",
       "    <tr>\n",
       "      <th>3</th>\n",
       "      <td>1.084670</td>\n",
       "      <td>0.240980</td>\n",
       "      <td>-1.301148</td>\n",
       "      <td>-0.508821</td>\n",
       "    </tr>\n",
       "    <tr>\n",
       "      <th>4</th>\n",
       "      <td>-0.165891</td>\n",
       "      <td>0.358769</td>\n",
       "      <td>1.080228</td>\n",
       "      <td>1.700576</td>\n",
       "    </tr>\n",
       "  </tbody>\n",
       "</table>\n",
       "</div>"
      ],
      "text/plain": [
       "          A         B         C         D\n",
       "3  1.084670  0.240980 -1.301148 -0.508821\n",
       "4 -0.165891  0.358769  1.080228  1.700576"
      ]
     },
     "execution_count": 5,
     "metadata": {},
     "output_type": "execute_result"
    }
   ],
   "source": [
    "# Creating bool mask\n",
    "floats['B'] >= 0\n",
    "\n",
    "# selecting all rows where ...\n",
    "floats[floats['B'] >= 0]"
   ]
  },
  {
   "cell_type": "markdown",
   "metadata": {},
   "source": [
    "### Pandas querying"
   ]
  },
  {
   "cell_type": "code",
   "execution_count": null,
   "metadata": {},
   "outputs": [],
   "source": [
    "autos = pd.read_csv()\n",
    "\n",
    "autos[autos['make'] == 'volvo']\n",
    "\n",
    "autos.query('make == \"volvo\"')\n",
    "autos.query('`engine-size` <= 140')\n",
    "\n",
    "autos[(autos['make'] == 'volvo') & (autos['engine-size'] <= 140)]\n",
    "autos.query('`engine-size` <= 140 and make == \"volvo\"')\n",
    "\n",
    "autos[(autos['make'] == 'volvo'), ['price']] = 0"
   ]
  },
  {
   "cell_type": "markdown",
   "metadata": {},
   "source": [
    "### sorting dataframe"
   ]
  },
  {
   "cell_type": "code",
   "execution_count": null,
   "metadata": {},
   "outputs": [],
   "source": [
    "autos.sort_values(by=['make', 'engine-size'], ascending=[True, False])"
   ]
  }
 ],
 "metadata": {
  "kernelspec": {
   "display_name": "Databehandling-Johan-Suld-sdLM1sW_",
   "language": "python",
   "name": "python3"
  },
  "language_info": {
   "codemirror_mode": {
    "name": "ipython",
    "version": 3
   },
   "file_extension": ".py",
   "mimetype": "text/x-python",
   "name": "python",
   "nbconvert_exporter": "python",
   "pygments_lexer": "ipython3",
   "version": "3.11.5"
  }
 },
 "nbformat": 4,
 "nbformat_minor": 2
}
