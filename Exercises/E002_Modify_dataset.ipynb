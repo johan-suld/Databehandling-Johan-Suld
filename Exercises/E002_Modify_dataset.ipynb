{
 "cells": [
  {
   "cell_type": "markdown",
   "metadata": {},
   "source": [
    "## Exercises: Modify the dataset"
   ]
  },
  {
   "cell_type": "code",
   "execution_count": 129,
   "metadata": {},
   "outputs": [],
   "source": [
    "import pandas as pd\n",
    "employees = pd.read_json(\"../Data/employees.json\")"
   ]
  },
  {
   "cell_type": "markdown",
   "metadata": {},
   "source": [
    "**Current state of the \"employees\" dataset**\n",
    "\n",
    "Rerun the code block below after each modification you do, to see its current state."
   ]
  },
  {
   "cell_type": "code",
   "execution_count": 145,
   "metadata": {},
   "outputs": [
    {
     "data": {
      "text/html": [
       "<div>\n",
       "<style scoped>\n",
       "    .dataframe tbody tr th:only-of-type {\n",
       "        vertical-align: middle;\n",
       "    }\n",
       "\n",
       "    .dataframe tbody tr th {\n",
       "        vertical-align: top;\n",
       "    }\n",
       "\n",
       "    .dataframe thead th {\n",
       "        text-align: right;\n",
       "    }\n",
       "</style>\n",
       "<table border=\"1\" class=\"dataframe\">\n",
       "  <thead>\n",
       "    <tr style=\"text-align: right;\">\n",
       "      <th></th>\n",
       "      <th>Name</th>\n",
       "      <th>Email</th>\n",
       "      <th>Job title</th>\n",
       "      <th>Salary</th>\n",
       "      <th>Department</th>\n",
       "    </tr>\n",
       "  </thead>\n",
       "  <tbody>\n",
       "    <tr>\n",
       "      <th>0</th>\n",
       "      <td>John Doe</td>\n",
       "      <td>john.doe@mockcompany.com</td>\n",
       "      <td>Sales Director</td>\n",
       "      <td>132000.0</td>\n",
       "      <td>Sales</td>\n",
       "    </tr>\n",
       "    <tr>\n",
       "      <th>1</th>\n",
       "      <td>Jane Smith</td>\n",
       "      <td>jane.smith@mockcompany.com</td>\n",
       "      <td>HR Coordinator</td>\n",
       "      <td>66000.0</td>\n",
       "      <td>Human Resources</td>\n",
       "    </tr>\n",
       "    <tr>\n",
       "      <th>2</th>\n",
       "      <td>Michael Johnson</td>\n",
       "      <td>michael.johnson@mockcompany.com</td>\n",
       "      <td>Software Engineer</td>\n",
       "      <td>121000.0</td>\n",
       "      <td>IT</td>\n",
       "    </tr>\n",
       "    <tr>\n",
       "      <th>3</th>\n",
       "      <td>Sarah Williams</td>\n",
       "      <td>sarah.williams@mockcompany.com</td>\n",
       "      <td>Marketing Specialist</td>\n",
       "      <td>82500.0</td>\n",
       "      <td>Sales</td>\n",
       "    </tr>\n",
       "    <tr>\n",
       "      <th>4</th>\n",
       "      <td>David Brown</td>\n",
       "      <td>david.brown@mockcompany.com</td>\n",
       "      <td>HR Manager</td>\n",
       "      <td>99000.0</td>\n",
       "      <td>Human Resources</td>\n",
       "    </tr>\n",
       "    <tr>\n",
       "      <th>5</th>\n",
       "      <td>Emily Davis</td>\n",
       "      <td>emily.davis@mockcompany.com</td>\n",
       "      <td>IT Support Specialist</td>\n",
       "      <td>60500.0</td>\n",
       "      <td>IT</td>\n",
       "    </tr>\n",
       "    <tr>\n",
       "      <th>6</th>\n",
       "      <td>Jacob Wilson</td>\n",
       "      <td>jacob.wilson@mockcompany.com</td>\n",
       "      <td>Sales Representative</td>\n",
       "      <td>88000.0</td>\n",
       "      <td>Sales</td>\n",
       "    </tr>\n",
       "    <tr>\n",
       "      <th>8</th>\n",
       "      <td>Ethan Lee</td>\n",
       "      <td>ethan.lee@mockcompany.com</td>\n",
       "      <td>Financial Analyst</td>\n",
       "      <td>93500.0</td>\n",
       "      <td>Sales</td>\n",
       "    </tr>\n",
       "    <tr>\n",
       "      <th>9</th>\n",
       "      <td>Sophia Taylor</td>\n",
       "      <td>sophia.taylor@mockcompany.com</td>\n",
       "      <td>HR Assistant</td>\n",
       "      <td>55000.0</td>\n",
       "      <td>Human Resources</td>\n",
       "    </tr>\n",
       "    <tr>\n",
       "      <th>10</th>\n",
       "      <td>Nils Nilsson</td>\n",
       "      <td>nils.nilsson@mockcompany.com</td>\n",
       "      <td>Software Engineer</td>\n",
       "      <td>30000.0</td>\n",
       "      <td>IT</td>\n",
       "    </tr>\n",
       "    <tr>\n",
       "      <th>11</th>\n",
       "      <td>Anna Jonsson</td>\n",
       "      <td>anna.jonsson@mockcompany.com</td>\n",
       "      <td>Software Engineer</td>\n",
       "      <td>30000.0</td>\n",
       "      <td>IT</td>\n",
       "    </tr>\n",
       "  </tbody>\n",
       "</table>\n",
       "</div>"
      ],
      "text/plain": [
       "               Name                            Email              Job title  \\\n",
       "0          John Doe         john.doe@mockcompany.com         Sales Director   \n",
       "1        Jane Smith       jane.smith@mockcompany.com         HR Coordinator   \n",
       "2   Michael Johnson  michael.johnson@mockcompany.com      Software Engineer   \n",
       "3    Sarah Williams   sarah.williams@mockcompany.com   Marketing Specialist   \n",
       "4       David Brown      david.brown@mockcompany.com             HR Manager   \n",
       "5       Emily Davis      emily.davis@mockcompany.com  IT Support Specialist   \n",
       "6      Jacob Wilson     jacob.wilson@mockcompany.com   Sales Representative   \n",
       "8         Ethan Lee        ethan.lee@mockcompany.com      Financial Analyst   \n",
       "9     Sophia Taylor    sophia.taylor@mockcompany.com           HR Assistant   \n",
       "10     Nils Nilsson     nils.nilsson@mockcompany.com      Software Engineer   \n",
       "11     Anna Jonsson     anna.jonsson@mockcompany.com      Software Engineer   \n",
       "\n",
       "      Salary       Department  \n",
       "0   132000.0            Sales  \n",
       "1    66000.0  Human Resources  \n",
       "2   121000.0               IT  \n",
       "3    82500.0            Sales  \n",
       "4    99000.0  Human Resources  \n",
       "5    60500.0               IT  \n",
       "6    88000.0            Sales  \n",
       "8    93500.0            Sales  \n",
       "9    55000.0  Human Resources  \n",
       "10   30000.0               IT  \n",
       "11   30000.0               IT  "
      ]
     },
     "execution_count": 145,
     "metadata": {},
     "output_type": "execute_result"
    }
   ],
   "source": [
    "employees"
   ]
  },
  {
   "cell_type": "markdown",
   "metadata": {},
   "source": [
    "**Do the following operations on the \"employees\" dataset:**"
   ]
  },
  {
   "cell_type": "markdown",
   "metadata": {},
   "source": [
    "**OP1:** Create a new column \"name\" which contains the full name (eg. \"John Doe\") for each employee."
   ]
  },
  {
   "cell_type": "code",
   "execution_count": 131,
   "metadata": {},
   "outputs": [],
   "source": [
    "employees['name'] = employees['first_name'] + ' ' + employees['last_name']"
   ]
  },
  {
   "cell_type": "markdown",
   "metadata": {},
   "source": [
    "<div style=\"display: inline\">\n",
    "<b>OP2:</b> Create a new column \"email\" with the following format: firstname.lastname@mockcompany.com\n",
    "</div><br>\n",
    "\n",
    "*Note: email addresses should be all lower case.*"
   ]
  },
  {
   "cell_type": "code",
   "execution_count": 132,
   "metadata": {},
   "outputs": [],
   "source": [
    "employees['email'] = employees['first_name'].apply(str.lower) + '.' + employees['last_name'].apply(str.lower) + '@mockcompany.com'"
   ]
  },
  {
   "cell_type": "markdown",
   "metadata": {},
   "source": [
    "**OP3:** Remove the columns \"first_name\" and \"last_name\", and put the columns \"name\" and \"email\" first."
   ]
  },
  {
   "cell_type": "code",
   "execution_count": 133,
   "metadata": {},
   "outputs": [],
   "source": [
    "employees = employees.loc[:, ['name', 'email', 'job_title', 'salary', 'department']]"
   ]
  },
  {
   "cell_type": "markdown",
   "metadata": {},
   "source": [
    "**OP4:** Update column titles to make the first letter in each title upper case. Also replace the underscore character in \"job_title\" with a space."
   ]
  },
  {
   "cell_type": "code",
   "execution_count": 134,
   "metadata": {},
   "outputs": [],
   "source": [
    "employees.rename(str.capitalize, axis='columns', inplace=True)\n",
    "employees.rename(columns={'Job_title': 'Job title'}, inplace=True)"
   ]
  },
  {
   "cell_type": "markdown",
   "metadata": {},
   "source": [
    "**OP5:** Change the data type of column \"Salary\" to float64."
   ]
  },
  {
   "cell_type": "code",
   "execution_count": 135,
   "metadata": {},
   "outputs": [
    {
     "data": {
      "text/plain": [
       "0    120000.0\n",
       "1     60000.0\n",
       "2    110000.0\n",
       "3     75000.0\n",
       "4     90000.0\n",
       "5     55000.0\n",
       "6     80000.0\n",
       "7    100000.0\n",
       "8     85000.0\n",
       "9     50000.0\n",
       "Name: Salary, dtype: float64"
      ]
     },
     "execution_count": 135,
     "metadata": {},
     "output_type": "execute_result"
    }
   ],
   "source": [
    "employees = employees.astype({'Salary': float})\n",
    "employees['Salary']"
   ]
  },
  {
   "cell_type": "markdown",
   "metadata": {},
   "source": [
    "**OP6:** The company decided to give everyone in sales a 10% salary increase. Update the dataset accordingly."
   ]
  },
  {
   "cell_type": "code",
   "execution_count": 136,
   "metadata": {},
   "outputs": [],
   "source": [
    "employees['Salary'] = employees['Salary'] * 1.1"
   ]
  },
  {
   "cell_type": "markdown",
   "metadata": {},
   "source": [
    "**OP7:** The company hired a new software engineer. Add a new row with appropriate values to the dataset."
   ]
  },
  {
   "cell_type": "code",
   "execution_count": 137,
   "metadata": {},
   "outputs": [],
   "source": [
    "employees.loc[10] = {'Name': 'Johan Doe', 'Email': 'johan.doe@mockcompany.com', 'Job title': 'CEO', 'Salary': 100000, 'Department': 'Board'}"
   ]
  },
  {
   "cell_type": "markdown",
   "metadata": {},
   "source": [
    "**OP8:** The company decided to hire a lot of new software engineers.\n",
    "\n",
    "Create python code that asks the user to input the name and salary of the new software engineer, and then automatically adds the new employee to the dataset. Also, ensure that each employee get a unique index in the dataset."
   ]
  },
  {
   "cell_type": "code",
   "execution_count": 144,
   "metadata": {},
   "outputs": [],
   "source": [
    "input_name = input('Enter first name and last name:')\n",
    "\n",
    "try:\n",
    "    input_salary = float(input('Enter salary:'))\n",
    "except ValueError:\n",
    "    raise ValueError('salary must be numeric')\n",
    "\n",
    "employees.loc[employees.index.max() + 1] = {'Name': input_name, \n",
    "                                            'Email': input_name.replace(' ', '.').lower() + '@mockcompany.com', \n",
    "                                            'Job title': 'Software Engineer', \n",
    "                                            'Salary': input_salary, \n",
    "                                            'Department': 'IT'}"
   ]
  },
  {
   "cell_type": "markdown",
   "metadata": {},
   "source": [
    "**OP9:** Olivia Moore quits her job. Remove her data from the dataset."
   ]
  },
  {
   "cell_type": "code",
   "execution_count": 138,
   "metadata": {},
   "outputs": [],
   "source": [
    "employees.drop(employees[employees['Name'] == 'Olivia Moore'].index, inplace=True)"
   ]
  },
  {
   "cell_type": "markdown",
   "metadata": {},
   "source": [
    "**OP10**: Make sure that the python script in *OP8* still gives a unique index to each new employee, even after removing rows."
   ]
  }
 ],
 "metadata": {
  "kernelspec": {
   "display_name": "Databehandling-AI23-toKGAHu0",
   "language": "python",
   "name": "python3"
  },
  "language_info": {
   "codemirror_mode": {
    "name": "ipython",
    "version": 3
   },
   "file_extension": ".py",
   "mimetype": "text/x-python",
   "name": "python",
   "nbconvert_exporter": "python",
   "pygments_lexer": "ipython3",
   "version": "3.11.5"
  }
 },
 "nbformat": 4,
 "nbformat_minor": 2
}
