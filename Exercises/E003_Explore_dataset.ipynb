{
 "cells": [
  {
   "cell_type": "markdown",
   "metadata": {},
   "source": [
    "## Exercises: Explore the dataset"
   ]
  },
  {
   "cell_type": "code",
   "execution_count": 1,
   "metadata": {},
   "outputs": [],
   "source": [
    "import pandas as pd\n",
    "import seaborn as sns\n",
    "taxis = sns.load_dataset(\"taxis\")"
   ]
  },
  {
   "cell_type": "markdown",
   "metadata": {},
   "source": [
    "**Explore the \"taxis\" dataset to answer the following questions:**"
   ]
  },
  {
   "cell_type": "markdown",
   "metadata": {},
   "source": [
    "**Q1:** How many rows and column are in the dataset?\n",
    "\n",
    "<details>\n",
    "<summary>Answer</summary>\n",
    "<br>\n",
    "&nbsp;&nbsp;&nbsp;<b>Rows:</b> 6433\n",
    "&nbsp;&nbsp;&nbsp;<b>Columns:</b> 14\n",
    "</details>"
   ]
  },
  {
   "cell_type": "code",
   "execution_count": 2,
   "metadata": {},
   "outputs": [
    {
     "data": {
      "text/plain": [
       "(6433, 14)"
      ]
     },
     "execution_count": 2,
     "metadata": {},
     "output_type": "execute_result"
    }
   ],
   "source": [
    "taxis.shape"
   ]
  },
  {
   "cell_type": "markdown",
   "metadata": {},
   "source": [
    "**Q2:** What datatype is the most common in the set?\n",
    "\n",
    "<details>\n",
    "<summary>Answer</summary>\n",
    "<br>\n",
    "&nbsp;&nbsp;&nbsp;object (6 columns)\n",
    "</details>"
   ]
  },
  {
   "cell_type": "code",
   "execution_count": 6,
   "metadata": {},
   "outputs": [
    {
     "name": "stdout",
     "output_type": "stream",
     "text": [
      "<class 'pandas.core.frame.DataFrame'>\n",
      "RangeIndex: 6433 entries, 0 to 6432\n",
      "Data columns (total 14 columns):\n",
      " #   Column           Non-Null Count  Dtype         \n",
      "---  ------           --------------  -----         \n",
      " 0   pickup           6433 non-null   datetime64[ns]\n",
      " 1   dropoff          6433 non-null   datetime64[ns]\n",
      " 2   passengers       6433 non-null   int64         \n",
      " 3   distance         6433 non-null   float64       \n",
      " 4   fare             6433 non-null   float64       \n",
      " 5   tip              6433 non-null   float64       \n",
      " 6   tolls            6433 non-null   float64       \n",
      " 7   total            6433 non-null   float64       \n",
      " 8   color            6433 non-null   object        \n",
      " 9   payment          6389 non-null   object        \n",
      " 10  pickup_zone      6407 non-null   object        \n",
      " 11  dropoff_zone     6388 non-null   object        \n",
      " 12  pickup_borough   6407 non-null   object        \n",
      " 13  dropoff_borough  6388 non-null   object        \n",
      "dtypes: datetime64[ns](2), float64(5), int64(1), object(6)\n",
      "memory usage: 703.7+ KB\n"
     ]
    }
   ],
   "source": [
    "# object is the most common datatype with six occurences\n",
    "\n",
    "taxis.info()"
   ]
  },
  {
   "cell_type": "markdown",
   "metadata": {},
   "source": [
    "**Q3:** What is the average number of passengers in a taxi?\n",
    "\n",
    "<details>\n",
    "<summary>Answer</summary>\n",
    "<br>\n",
    "&nbsp;&nbsp;&nbsp;1.54\n",
    "</details>"
   ]
  },
  {
   "cell_type": "code",
   "execution_count": 11,
   "metadata": {},
   "outputs": [
    {
     "data": {
      "text/plain": [
       "1.54"
      ]
     },
     "execution_count": 11,
     "metadata": {},
     "output_type": "execute_result"
    }
   ],
   "source": [
    "round(taxis['passengers'].mean(), 2)"
   ]
  },
  {
   "cell_type": "markdown",
   "metadata": {},
   "source": [
    "**Q4:** What is the most common number of passengers in a taxi?\n",
    "\n",
    "<details>\n",
    "<summary>Answer</summary>\n",
    "<br>\n",
    "&nbsp;&nbsp;&nbsp;1\n",
    "</details>"
   ]
  },
  {
   "cell_type": "code",
   "execution_count": 15,
   "metadata": {},
   "outputs": [
    {
     "data": {
      "text/plain": [
       "0    1\n",
       "Name: passengers, dtype: int64"
      ]
     },
     "execution_count": 15,
     "metadata": {},
     "output_type": "execute_result"
    }
   ],
   "source": [
    "taxis['passengers'].mode()"
   ]
  },
  {
   "cell_type": "markdown",
   "metadata": {},
   "source": [
    "**Q5:** What is the most common payment method?\n",
    "\n",
    "<details>\n",
    "<summary>Answer</summary>\n",
    "<br>\n",
    "&nbsp;&nbsp;&nbsp;credit card\n",
    "</details>"
   ]
  },
  {
   "cell_type": "code",
   "execution_count": 16,
   "metadata": {},
   "outputs": [
    {
     "data": {
      "text/plain": [
       "0    credit card\n",
       "Name: payment, dtype: object"
      ]
     },
     "execution_count": 16,
     "metadata": {},
     "output_type": "execute_result"
    }
   ],
   "source": [
    "taxis['payment'].mode()"
   ]
  },
  {
   "cell_type": "markdown",
   "metadata": {},
   "source": [
    "**Q6:** Which of the categorical features has the most categories?\n",
    "\n",
    "<details>\n",
    "<summary>Answer</summary>\n",
    "<br>\n",
    "&nbsp;&nbsp;&nbsp;dropoff_zone (203 categories)\n",
    "</details>"
   ]
  },
  {
   "cell_type": "code",
   "execution_count": 18,
   "metadata": {},
   "outputs": [
    {
     "data": {
      "text/html": [
       "<div>\n",
       "<style scoped>\n",
       "    .dataframe tbody tr th:only-of-type {\n",
       "        vertical-align: middle;\n",
       "    }\n",
       "\n",
       "    .dataframe tbody tr th {\n",
       "        vertical-align: top;\n",
       "    }\n",
       "\n",
       "    .dataframe thead th {\n",
       "        text-align: right;\n",
       "    }\n",
       "</style>\n",
       "<table border=\"1\" class=\"dataframe\">\n",
       "  <thead>\n",
       "    <tr style=\"text-align: right;\">\n",
       "      <th></th>\n",
       "      <th>color</th>\n",
       "      <th>payment</th>\n",
       "      <th>pickup_zone</th>\n",
       "      <th>dropoff_zone</th>\n",
       "      <th>pickup_borough</th>\n",
       "      <th>dropoff_borough</th>\n",
       "    </tr>\n",
       "  </thead>\n",
       "  <tbody>\n",
       "    <tr>\n",
       "      <th>count</th>\n",
       "      <td>6433</td>\n",
       "      <td>6389</td>\n",
       "      <td>6407</td>\n",
       "      <td>6388</td>\n",
       "      <td>6407</td>\n",
       "      <td>6388</td>\n",
       "    </tr>\n",
       "    <tr>\n",
       "      <th>unique</th>\n",
       "      <td>2</td>\n",
       "      <td>2</td>\n",
       "      <td>194</td>\n",
       "      <td>203</td>\n",
       "      <td>4</td>\n",
       "      <td>5</td>\n",
       "    </tr>\n",
       "    <tr>\n",
       "      <th>top</th>\n",
       "      <td>yellow</td>\n",
       "      <td>credit card</td>\n",
       "      <td>Midtown Center</td>\n",
       "      <td>Upper East Side North</td>\n",
       "      <td>Manhattan</td>\n",
       "      <td>Manhattan</td>\n",
       "    </tr>\n",
       "    <tr>\n",
       "      <th>freq</th>\n",
       "      <td>5451</td>\n",
       "      <td>4577</td>\n",
       "      <td>230</td>\n",
       "      <td>245</td>\n",
       "      <td>5268</td>\n",
       "      <td>5206</td>\n",
       "    </tr>\n",
       "  </tbody>\n",
       "</table>\n",
       "</div>"
      ],
      "text/plain": [
       "         color      payment     pickup_zone           dropoff_zone  \\\n",
       "count     6433         6389            6407                   6388   \n",
       "unique       2            2             194                    203   \n",
       "top     yellow  credit card  Midtown Center  Upper East Side North   \n",
       "freq      5451         4577             230                    245   \n",
       "\n",
       "       pickup_borough dropoff_borough  \n",
       "count            6407            6388  \n",
       "unique              4               5  \n",
       "top         Manhattan       Manhattan  \n",
       "freq             5268            5206  "
      ]
     },
     "execution_count": 18,
     "metadata": {},
     "output_type": "execute_result"
    }
   ],
   "source": [
    "#taxis.describe(include=['object', 'category'])\n",
    "\n",
    "# there are no categorical features in the data set"
   ]
  },
  {
   "cell_type": "markdown",
   "metadata": {},
   "source": [
    "**Q7:** What percentage of cars in the set are yellow?\n",
    "\n",
    "<details>\n",
    "<summary>Answer</summary>\n",
    "<br>\n",
    "&nbsp;&nbsp;&nbsp;84.7%\n",
    "</details>"
   ]
  },
  {
   "cell_type": "code",
   "execution_count": 20,
   "metadata": {},
   "outputs": [
    {
     "data": {
      "text/plain": [
       "0.8473496036064044"
      ]
     },
     "execution_count": 20,
     "metadata": {},
     "output_type": "execute_result"
    }
   ],
   "source": [
    "len(taxis.query('color == \"yellow\"')) / len(taxis)"
   ]
  },
  {
   "cell_type": "markdown",
   "metadata": {},
   "source": [
    "**Q8:** Which dropoff borough is most common? Which one is least common?\n",
    "\n",
    "<details>\n",
    "<summary>Answer</summary>\n",
    "<br>\n",
    "&nbsp;&nbsp;&nbsp;<b>Most common:</b> Manhattan (5206)<br>\n",
    "&nbsp;&nbsp;&nbsp;<b>Least common:</b> Staten Island (2)<br>\n",
    "</details>"
   ]
  },
  {
   "cell_type": "code",
   "execution_count": 22,
   "metadata": {},
   "outputs": [
    {
     "data": {
      "text/plain": [
       "dropoff_borough\n",
       "Manhattan        5206\n",
       "Queens            542\n",
       "Brooklyn          501\n",
       "Bronx             137\n",
       "Staten Island       2\n",
       "Name: count, dtype: int64"
      ]
     },
     "execution_count": 22,
     "metadata": {},
     "output_type": "execute_result"
    }
   ],
   "source": [
    "# Manhattan is the most common, Staten Island is the least common\n",
    "\n",
    "taxis['dropoff_borough'].value_counts()"
   ]
  },
  {
   "cell_type": "markdown",
   "metadata": {},
   "source": [
    "**Q9:** Which column has the most missing values? How many?\n",
    "\n",
    "<details>\n",
    "<summary>Answer</summary>\n",
    "<br>\n",
    "&nbsp;&nbsp;&nbsp;<i>dropoff_zone</i> and <i>dropoff_borough</i> both have 45 missing values.\n",
    "</details>"
   ]
  },
  {
   "cell_type": "code",
   "execution_count": 25,
   "metadata": {},
   "outputs": [
    {
     "data": {
      "text/plain": [
       "pickup              0\n",
       "dropoff             0\n",
       "passengers          0\n",
       "distance            0\n",
       "fare                0\n",
       "tip                 0\n",
       "tolls               0\n",
       "total               0\n",
       "color               0\n",
       "payment            44\n",
       "pickup_zone        26\n",
       "dropoff_zone       45\n",
       "pickup_borough     26\n",
       "dropoff_borough    45\n",
       "dtype: int64"
      ]
     },
     "execution_count": 25,
     "metadata": {},
     "output_type": "execute_result"
    }
   ],
   "source": [
    "# dropoff_zone and dropoff_borough both have 45 missing values\n",
    "\n",
    "taxis.isna().sum()"
   ]
  },
  {
   "cell_type": "markdown",
   "metadata": {},
   "source": [
    "### Memory usage\n",
    "``` taxis.info(memory_usage=\"deep\") ``` gives you the total memory usage of the dataframe.\n",
    "\n",
    "``` taxis.memory_usage(deep=True) ``` give you the total memory usage for each column.\n",
    "\n",
    "**Answer the following questions:**"
   ]
  },
  {
   "cell_type": "markdown",
   "metadata": {},
   "source": [
    "**Q10:** What is the total memory usage of the dataframe?\n",
    "\n",
    "<details>\n",
    "<summary>Answer</summary>\n",
    "<br>\n",
    "&nbsp;&nbsp;&nbsp;2.9 MB\n",
    "</details>"
   ]
  },
  {
   "cell_type": "code",
   "execution_count": null,
   "metadata": {},
   "outputs": [],
   "source": []
  },
  {
   "cell_type": "markdown",
   "metadata": {},
   "source": [
    "**Q11:** Which column takes up the most memory? How many kilobytes?\n",
    "\n",
    "<details>\n",
    "<summary>Answer</summary>\n",
    "<br>\n",
    "&nbsp;&nbsp;&nbsp;pickup_zone (470 KB)\n",
    "</details>"
   ]
  },
  {
   "cell_type": "code",
   "execution_count": null,
   "metadata": {},
   "outputs": [],
   "source": []
  },
  {
   "cell_type": "markdown",
   "metadata": {},
   "source": [
    "**Q12:** Why does the numeric columns all take up exactly 51464 bytes?\n",
    "\n",
    "<details>\n",
    "<summary>Answer</summary>\n",
    "<br>\n",
    "&nbsp;&nbsp;&nbsp;They all use 64 bit datatypes. 64 bits = 8 bytes. 6433 entries * 8 bytes = 51464 bytes.\n",
    "</details>"
   ]
  },
  {
   "cell_type": "code",
   "execution_count": null,
   "metadata": {},
   "outputs": [],
   "source": []
  },
  {
   "cell_type": "markdown",
   "metadata": {},
   "source": [
    "**Q13:** What is the total memory usage after converting all *object* columns to *category*?\n",
    "\n",
    "<details>\n",
    "<summary>Answer</summary>\n",
    "<br>\n",
    "&nbsp;&nbsp;&nbsp;494.0 KB\n",
    "</details>"
   ]
  },
  {
   "cell_type": "code",
   "execution_count": null,
   "metadata": {},
   "outputs": [],
   "source": []
  },
  {
   "cell_type": "markdown",
   "metadata": {},
   "source": [
    "**Q14:** ... and after also converting *float64* to *float32*?\n",
    "\n",
    "<details>\n",
    "<summary>Answer</summary>\n",
    "<br>\n",
    "&nbsp;&nbsp;&nbsp;368.4 KB\n",
    "</details>"
   ]
  },
  {
   "cell_type": "code",
   "execution_count": null,
   "metadata": {},
   "outputs": [],
   "source": []
  },
  {
   "cell_type": "markdown",
   "metadata": {},
   "source": [
    "**Q15:** What is the smallest datatype we can convert passengers to? What is the total memory usage after converting passengers to the new type?\n",
    "\n",
    "<details>\n",
    "<summary>Answer</summary>\n",
    "<br>\n",
    "&nbsp;&nbsp;&nbsp;The maximum number of passengers in the dataset are 6,<br> \n",
    "&nbsp;&nbsp;&nbsp;and therefore the values easily fit into the <i>int8</i> type (8 bit integer).<br>\n",
    "<br>\n",
    "&nbsp;&nbsp;&nbsp;New size: 324.4 KB\n",
    "</details>"
   ]
  },
  {
   "cell_type": "code",
   "execution_count": null,
   "metadata": {},
   "outputs": [],
   "source": []
  },
  {
   "cell_type": "markdown",
   "metadata": {},
   "source": [
    "**Q16:** How many percent of the orignal datasize is the new dataset after converting all the types as above?\n",
    "\n",
    "<details>\n",
    "<summary>Answer</summary>\n",
    "<br>\n",
    "&nbsp;&nbsp;&nbsp;11.0 %\n",
    "</details>"
   ]
  },
  {
   "cell_type": "markdown",
   "metadata": {},
   "source": [
    "### Final note:\n",
    "Just to be clear, if we want to limit our memory usage by specifying datatypes with a smaller memory footprint, it makes more sense to do so when loading the dataset in to pandas, than changing the type afterwards (as in the example above).\n",
    "\n",
    "Most common ways to load data into pandas (like pd.from_csv, pd.from_json etc) provides optional parameters for setting the datatype as the files are read into pandas dataframes.\n",
    "\n",
    "Also, note that this is really only a concern when working with huge sets of data. For smaller datasets, like the one in the example above, it doesn't really matter, and might be only unneccessary work to optimize. The above exercises just serve as examples to better understand data types and their memory footprints."
   ]
  }
 ],
 "metadata": {
  "kernelspec": {
   "display_name": "Databehandling-AI23-toKGAHu0",
   "language": "python",
   "name": "python3"
  },
  "language_info": {
   "codemirror_mode": {
    "name": "ipython",
    "version": 3
   },
   "file_extension": ".py",
   "mimetype": "text/x-python",
   "name": "python",
   "nbconvert_exporter": "python",
   "pygments_lexer": "ipython3",
   "version": "3.11.5"
  }
 },
 "nbformat": 4,
 "nbformat_minor": 2
}
