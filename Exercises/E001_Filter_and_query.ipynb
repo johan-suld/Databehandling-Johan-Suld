{
 "cells": [
  {
   "cell_type": "markdown",
   "metadata": {},
   "source": [
    "## Exercises: Filter and query data"
   ]
  },
  {
   "cell_type": "code",
   "execution_count": 1,
   "metadata": {},
   "outputs": [],
   "source": [
    "import pandas as pd\n",
    "autos = pd.read_json(\"../Data/autos.json\")"
   ]
  },
  {
   "cell_type": "markdown",
   "metadata": {},
   "source": [
    "**Use the \"autos\" dataset to answer the following questions:**"
   ]
  },
  {
   "cell_type": "markdown",
   "metadata": {},
   "source": [
    "**Q1:** How many cars from Jaguar are in the dataset, and what is the price of the most expensive one?"
   ]
  },
  {
   "cell_type": "code",
   "execution_count": 10,
   "metadata": {},
   "outputs": [
    {
     "name": "stdout",
     "output_type": "stream",
     "text": [
      "Shape: (3, 26)\n",
      "Max price: 36000.0\n"
     ]
    }
   ],
   "source": [
    "jaguars = autos.query('make == \"jaguar\"')\n",
    "\n",
    "print(f'Shape: {jaguars.shape}')\n",
    "print(f'Max price: {jaguars[\"price\"].max()}')"
   ]
  },
  {
   "cell_type": "markdown",
   "metadata": {},
   "source": [
    "**Q2:** How many cars from Toyota are in the dataset, and what is the price of the most expensive one?"
   ]
  },
  {
   "cell_type": "code",
   "execution_count": 13,
   "metadata": {},
   "outputs": [
    {
     "name": "stdout",
     "output_type": "stream",
     "text": [
      "Shape: (32, 26)\n",
      "Max price: 17669.0\n"
     ]
    }
   ],
   "source": [
    "toyotas = autos.query('make == \"toyota\"')\n",
    "\n",
    "print(f'Shape: {toyotas.shape}')\n",
    "print(f'Max price: {toyotas[\"price\"].max()}')"
   ]
  },
  {
   "cell_type": "markdown",
   "metadata": {},
   "source": [
    "**Q3:** What is the length, width and height of the most expensive car in the entire dataset?"
   ]
  },
  {
   "cell_type": "code",
   "execution_count": 70,
   "metadata": {},
   "outputs": [
    {
     "data": {
      "text/plain": [
       "length    199.2\n",
       "width      72.0\n",
       "height     55.4\n",
       "Name: 74, dtype: object"
      ]
     },
     "execution_count": 70,
     "metadata": {},
     "output_type": "execute_result"
    }
   ],
   "source": [
    "max_price = autos.sort_values('price', ascending=False)\n",
    "max_price.loc[max_price.index[0], ['length', 'width', 'height']]"
   ]
  },
  {
   "cell_type": "markdown",
   "metadata": {},
   "source": [
    "**Q4:** What is the lowest price per horsepower in the dataset, and what brand (\"make\") is that car?"
   ]
  },
  {
   "cell_type": "code",
   "execution_count": 35,
   "metadata": {},
   "outputs": [
    {
     "data": {
      "text/plain": [
       "make                     toyota\n",
       "price                    8449.0\n",
       "horsepower                116.0\n",
       "price / horsepower    72.836207\n",
       "Name: 167, dtype: object"
      ]
     },
     "execution_count": 35,
     "metadata": {},
     "output_type": "execute_result"
    }
   ],
   "source": [
    "q4 = autos.copy()\n",
    "\n",
    "q4['price / horsepower'] = q4['price'] / q4['horsepower']\n",
    "q4.sort_values('price / horsepower', inplace=True)\n",
    "q4.loc[q4.index[0], ['make', 'price', 'horsepower', 'price / horsepower']]"
   ]
  },
  {
   "cell_type": "markdown",
   "metadata": {},
   "source": [
    "**Q5:** How many of the cars in the dataset has as many cylinders as they have doors?"
   ]
  },
  {
   "cell_type": "code",
   "execution_count": 43,
   "metadata": {},
   "outputs": [
    {
     "data": {
      "text/plain": [
       "(95, 26)"
      ]
     },
     "execution_count": 43,
     "metadata": {},
     "output_type": "execute_result"
    }
   ],
   "source": [
    "q5 = autos.copy()\n",
    "\n",
    "q5.query('`num-of-cylinders` == `num-of-doors`', inplace=True)\n",
    "q5.shape"
   ]
  },
  {
   "cell_type": "markdown",
   "metadata": {},
   "source": [
    "**Use the \"autos\" dataset and write python code to solve the following tasks:**"
   ]
  },
  {
   "cell_type": "markdown",
   "metadata": {},
   "source": [
    "**T1:** Print a string to inform the user of the price difference between the cheapest and the most expensive car in the dataset."
   ]
  },
  {
   "cell_type": "code",
   "execution_count": 45,
   "metadata": {},
   "outputs": [
    {
     "name": "stdout",
     "output_type": "stream",
     "text": [
      "The difference is 40282.0\n"
     ]
    }
   ],
   "source": [
    "t1 = autos.copy()\n",
    "\n",
    "print(f'The difference is {t1[\"price\"].max() - t1[\"price\"].min()}')"
   ]
  },
  {
   "cell_type": "markdown",
   "metadata": {},
   "source": [
    "**T2:** Ask the user to input a brand, then print the price range for that brand."
   ]
  },
  {
   "cell_type": "code",
   "execution_count": 55,
   "metadata": {},
   "outputs": [
    {
     "name": "stdout",
     "output_type": "stream",
     "text": [
      "The prices of cars of brand volvo ranges from 12940.0 to 22625.0\n"
     ]
    }
   ],
   "source": [
    "input_brand = input('Enter a brand:')\n",
    "\n",
    "t2 = autos.copy()\n",
    "\n",
    "q = t2.query(f'make == \"{input_brand}\"')\n",
    "\n",
    "if len(q) > 0:\n",
    "    print(f'The prices of cars of brand {input_brand} ranges from {q[\"price\"].min()} to {q[\"price\"].max()}')\n",
    "else:\n",
    "    print(f'The brand {input_brand} does not exist in the dataset')"
   ]
  },
  {
   "cell_type": "markdown",
   "metadata": {},
   "source": [
    "**T3:** Ask the user to input a brand, then print the number of cars in the dataset for that brand, and all attributes for a random sample car of that brand."
   ]
  },
  {
   "cell_type": "code",
   "execution_count": 71,
   "metadata": {},
   "outputs": [
    {
     "name": "stdout",
     "output_type": "stream",
     "text": [
      "Number of cars of brand mazda: 17. Random sample:\n",
      "\n",
      "   aspiration body-style  bore  city-mpg  compression-ratio  curb-weight  \\\n",
      "62        std      sedan  3.39        26                8.6         2410   \n",
      "\n",
      "   drive-wheels engine-location  engine-size engine-type fuel-system  \\\n",
      "62          fwd           front          122         ohc        2bbl   \n",
      "\n",
      "   fuel-type  height  highway-mpg  horsepower  length   make  \\\n",
      "62       gas    55.5           32        84.0   177.8  mazda   \n",
      "\n",
      "    normalized-losses num-of-cylinders num-of-doors  peak-rpm    price  \\\n",
      "62              115.0             four         four    4800.0  10245.0   \n",
      "\n",
      "    stroke  symboling  wheel-base  width  \n",
      "62    3.39          0        98.8   66.5  \n"
     ]
    }
   ],
   "source": [
    "input_brand = input('Enter a brand:')\n",
    "\n",
    "t3 = autos.copy()\n",
    "\n",
    "q = t3.query(f'make == \"{input_brand}\"')\n",
    "\n",
    "if len(q) > 0:\n",
    "    print(f'Number of cars of brand {input_brand}: {len(q)}. Random sample:\\n')\n",
    "    print(q.sample(1))\n",
    "else:\n",
    "    print(f'The brand {input_brand} does not exist in the dataset')"
   ]
  },
  {
   "cell_type": "markdown",
   "metadata": {},
   "source": [
    "**T4:** Ask the user to input a brand, then export all cars of that brand to a .csv file with the same name as the brand."
   ]
  },
  {
   "cell_type": "code",
   "execution_count": 69,
   "metadata": {},
   "outputs": [
    {
     "name": "stdout",
     "output_type": "stream",
     "text": [
      "The brand tesla does not exist in the dataset\n"
     ]
    }
   ],
   "source": [
    "input_brand = input('Enter a brand:')\n",
    "\n",
    "t4 = autos.copy()\n",
    "\n",
    "q = t4.query(f'make == \"{input_brand}\"')\n",
    "\n",
    "if len(q) > 0:\n",
    "    with open('..\\\\Data\\\\input_brand.csv', 'w') as file:\n",
    "        file.write(str(q))\n",
    "else:\n",
    "    print(f'The brand {input_brand} does not exist in the dataset')"
   ]
  }
 ],
 "metadata": {
  "kernelspec": {
   "display_name": "Databehandling-AI23-toKGAHu0",
   "language": "python",
   "name": "python3"
  },
  "language_info": {
   "codemirror_mode": {
    "name": "ipython",
    "version": 3
   },
   "file_extension": ".py",
   "mimetype": "text/x-python",
   "name": "python",
   "nbconvert_exporter": "python",
   "pygments_lexer": "ipython3",
   "version": "3.9.5"
  }
 },
 "nbformat": 4,
 "nbformat_minor": 2
}
